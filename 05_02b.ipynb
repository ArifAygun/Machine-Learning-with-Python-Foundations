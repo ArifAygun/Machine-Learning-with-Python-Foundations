{
  "cells": [
    {
      "cell_type": "markdown",
      "metadata": {
        "id": "view-in-github",
        "colab_type": "text"
      },
      "source": [
        "<a href=\"https://colab.research.google.com/github/ArifAygun/Machine-Learning-with-Python-Foundations/blob/main/05_02b.ipynb\" target=\"_parent\"><img src=\"https://colab.research.google.com/assets/colab-badge.svg\" alt=\"Open In Colab\"/></a>"
      ]
    },
    {
      "cell_type": "markdown",
      "metadata": {
        "id": "U8cZysfb0mVF"
      },
      "source": [
        "# How to Build a Machine Learning Model in Python\n",
        "\n",
        "## Learning Objectives\n",
        "In the modeling stage of the machine learning process, our goal is to choose and apply the appropriate machine learning approach that works with the data we have and solves the problem that we intend to solve. If our objective is to build a model that predicts a numeric or continuous value, then our problem is known as a regression problem. One of the most common models used in solving regression problems is **Linear Regression**. By the end of the tutorial, you will have learned:\n",
        "\n",
        "+ how to collect, explore and prepare data\n",
        "+ how to build and evaluate a model"
      ]
    },
    {
      "cell_type": "markdown",
      "metadata": {
        "id": "H4h5CV-p3fsD"
      },
      "source": [
        "## 1. Collect the Data"
      ]
    },
    {
      "cell_type": "code",
      "execution_count": null,
      "metadata": {
        "id": "ZBtXnome3fr0",
        "scrolled": false
      },
      "outputs": [],
      "source": [
        "import pandas as pd\n",
        "bikes = pd.read_csv(\"bikes.csv\")\n",
        "bikes.head()"
      ]
    },
    {
      "cell_type": "markdown",
      "metadata": {
        "id": "HSBle2lF0mVK"
      },
      "source": [
        "## 2. Explore the Data"
      ]
    },
    {
      "cell_type": "code",
      "execution_count": null,
      "metadata": {
        "id": "Zc1jDmOc0mVK"
      },
      "outputs": [],
      "source": [
        "bikes.info()"
      ]
    },
    {
      "cell_type": "code",
      "execution_count": null,
      "metadata": {
        "id": "dfeSKTGL0mVK"
      },
      "outputs": [],
      "source": [
        "bikes.describe()"
      ]
    },
    {
      "cell_type": "code",
      "execution_count": null,
      "metadata": {
        "scrolled": true,
        "id": "dC10Ez5x0mVL"
      },
      "outputs": [],
      "source": [
        "%matplotlib inline\n",
        "bikes.plot(kind = 'scatter', x = 'temperature', y = 'rentals')"
      ]
    },
    {
      "cell_type": "code",
      "execution_count": null,
      "metadata": {
        "id": "VS_xTpuH0mVL"
      },
      "outputs": [],
      "source": [
        "bikes.plot(kind = 'scatter', x = 'humidity', y = 'rentals')"
      ]
    },
    {
      "cell_type": "code",
      "execution_count": null,
      "metadata": {
        "id": "LyKkVToZ0mVL"
      },
      "outputs": [],
      "source": [
        "bikes.plot(kind = 'scatter', x = 'windspeed', y = 'rentals')"
      ]
    },
    {
      "cell_type": "markdown",
      "metadata": {
        "id": "uTq-9bs80mVL"
      },
      "source": [
        "## 3. Prepare the Data"
      ]
    },
    {
      "cell_type": "code",
      "execution_count": null,
      "metadata": {
        "id": "t0BvB_XD0mVM"
      },
      "outputs": [],
      "source": [
        "response = 'rentals'\n",
        "y = bikes[[response]]\n",
        "y"
      ]
    },
    {
      "cell_type": "code",
      "execution_count": null,
      "metadata": {
        "id": "xk6wCN1b0mVM"
      },
      "outputs": [],
      "source": [
        "predictors = list(bikes.columns)\n",
        "predictors.remove(response)\n",
        "x = bikes[predictors]\n",
        "x"
      ]
    },
    {
      "cell_type": "code",
      "execution_count": null,
      "metadata": {
        "id": "oiQTlKpc0mVM"
      },
      "outputs": [],
      "source": [
        "from sklearn.model_selection import train_test_split\n",
        "x_train, x_test, y_train, y_test = train_test_split(x, y, random_state = 1234) "
      ]
    },
    {
      "cell_type": "markdown",
      "metadata": {
        "id": "8jO-z3X20mVM"
      },
      "source": [
        "## 4. Train the Model"
      ]
    },
    {
      "cell_type": "code",
      "execution_count": null,
      "metadata": {
        "id": "YYz9SKOo0mVM"
      },
      "outputs": [],
      "source": [
        "from sklearn.linear_model import LinearRegression\n"
      ]
    },
    {
      "cell_type": "code",
      "execution_count": null,
      "metadata": {
        "id": "yr8L5m_y0mVM"
      },
      "outputs": [],
      "source": []
    },
    {
      "cell_type": "code",
      "execution_count": null,
      "metadata": {
        "id": "ofSW-1b-0mVN"
      },
      "outputs": [],
      "source": []
    },
    {
      "cell_type": "markdown",
      "metadata": {
        "id": "R8Nksrio0mVN"
      },
      "source": [
        "The model coefficients correspond to the order in which the independent variables are listed in the training data. This means that the equation for the fitted regression line can be written as:\n",
        "\n",
        "$y = 3800.68 + 80.35 \\times temperature - 4665.74 \\times humidity - 196.22 \\times windspeed$\n",
        "\n",
        "With the linear regression equation, we can estimate what our model will predict given any weather condition. For example, given a temperature of $72^{\\circ}F$, $22\\%$ humidity and windspeed of $5$ miles per hour, our model would predict:\n",
        "\n",
        "$7,578 \\text{ bikes} \\approx 3800.68 + 80.35 \\times 72 - 4665.74 \\times .22 - 196.22 \\times 5$\n"
      ]
    },
    {
      "cell_type": "markdown",
      "metadata": {
        "id": "uUJcQAwH0mVN"
      },
      "source": [
        "## 5. Evaluate the Model"
      ]
    },
    {
      "cell_type": "code",
      "execution_count": null,
      "metadata": {
        "scrolled": true,
        "id": "Bah404p10mVN"
      },
      "outputs": [],
      "source": []
    },
    {
      "cell_type": "code",
      "execution_count": null,
      "metadata": {
        "id": "LauUmjqA0mVN"
      },
      "outputs": [],
      "source": []
    },
    {
      "cell_type": "code",
      "execution_count": null,
      "metadata": {
        "scrolled": true,
        "id": "vkJZ79-N0mVN"
      },
      "outputs": [],
      "source": [
        "from sklearn.metrics import mean_absolute_error\n"
      ]
    }
  ],
  "metadata": {
    "colab": {
      "provenance": [],
      "toc_visible": true,
      "include_colab_link": true
    },
    "kernelspec": {
      "display_name": "Python 3",
      "language": "python",
      "name": "python3"
    },
    "language_info": {
      "codemirror_mode": {
        "name": "ipython",
        "version": 3
      },
      "file_extension": ".py",
      "mimetype": "text/x-python",
      "name": "python",
      "nbconvert_exporter": "python",
      "pygments_lexer": "ipython3",
      "version": "3.8.8"
    }
  },
  "nbformat": 4,
  "nbformat_minor": 0
}