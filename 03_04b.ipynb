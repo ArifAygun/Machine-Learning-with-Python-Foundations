{
  "cells": [
    {
      "cell_type": "markdown",
      "metadata": {
        "id": "view-in-github",
        "colab_type": "text"
      },
      "source": [
        "<a href=\"https://colab.research.google.com/github/ArifAygun/Machine-Learning-with-Python-Foundations/blob/main/03_04b.ipynb\" target=\"_parent\"><img src=\"https://colab.research.google.com/assets/colab-badge.svg\" alt=\"Open In Colab\"/></a>"
      ]
    },
    {
      "cell_type": "markdown",
      "metadata": {
        "id": "GZYqmEDnzC1I"
      },
      "source": [
        "# How to Visualize Data in Python"
      ]
    },
    {
      "cell_type": "markdown",
      "metadata": {
        "id": "bTKdni6SzC1U"
      },
      "source": [
        "## Learning Objectives\n",
        "When exploring data, one of the most important things we can do is visualize it so we can better understand it. Like the popular saying \"*A picture is worth a thousand words*”, visualizations are sometimes more useful than summary statistics in helping us understand our data. This is because visualizations are a great tool for asking and answering questions about data. Depending on the type of question we are trying to answer, there are four major types of visualizations we could use. They are relationship, distribution, comparison and composition. By the end of this tutorial, you will have learned: \n",
        "\n",
        "+ how to create a relationship visualization\n",
        "+ how to create a distribution visualization\n",
        "+ how to create a comparison visualization\n",
        "+ how to create a composition visualization"
      ]
    },
    {
      "cell_type": "code",
      "execution_count": null,
      "metadata": {
        "scrolled": true,
        "id": "d9J7Zi_2zC1V"
      },
      "outputs": [],
      "source": [
        "%matplotlib inline"
      ]
    },
    {
      "cell_type": "markdown",
      "metadata": {
        "id": "a_xwOVVAzC1X"
      },
      "source": [
        "Let's import and preview the data we will use to illustrate how to visualize data."
      ]
    },
    {
      "cell_type": "code",
      "execution_count": null,
      "metadata": {
        "scrolled": true,
        "id": "NfItnM3fzC1X"
      },
      "outputs": [],
      "source": [
        "import pandas as pd\n",
        "vehicles = pd.read_csv(\"vehicles.csv\")\n",
        "vehicles.head()"
      ]
    },
    {
      "cell_type": "markdown",
      "metadata": {
        "id": "yGjn33tYzC1X"
      },
      "source": [
        "## How to create a Relationship Visualization"
      ]
    },
    {
      "cell_type": "code",
      "execution_count": null,
      "metadata": {
        "scrolled": false,
        "id": "IL4mPvpszC1X"
      },
      "outputs": [],
      "source": []
    },
    {
      "cell_type": "markdown",
      "metadata": {
        "id": "n3LPfJC_zC1Y"
      },
      "source": [
        "## How to create a Distribution Visualization"
      ]
    },
    {
      "cell_type": "code",
      "execution_count": null,
      "metadata": {
        "scrolled": true,
        "id": "jcnqDBdUzC1Y"
      },
      "outputs": [],
      "source": []
    },
    {
      "cell_type": "markdown",
      "metadata": {
        "id": "zxhCjR7FzC1Y"
      },
      "source": [
        "## How to create a Comparision Visualization"
      ]
    },
    {
      "cell_type": "code",
      "execution_count": null,
      "metadata": {
        "id": "gLog9HypzC1Y"
      },
      "outputs": [],
      "source": []
    },
    {
      "cell_type": "code",
      "execution_count": null,
      "metadata": {
        "id": "2Tgx8xWizC1Y"
      },
      "outputs": [],
      "source": [
        "vehicles.pivot(columns = 'drive', values = 'co2emissions')"
      ]
    },
    {
      "cell_type": "markdown",
      "metadata": {
        "id": "sbRAZxI7zC1Z"
      },
      "source": [
        "## How to create a Composition Visualization"
      ]
    },
    {
      "cell_type": "code",
      "execution_count": null,
      "metadata": {
        "id": "pZC53WXXzC1d"
      },
      "outputs": [],
      "source": []
    },
    {
      "cell_type": "code",
      "execution_count": null,
      "metadata": {
        "id": "JQ9AiBWkzC1d"
      },
      "outputs": [],
      "source": [
        "vehicles.groupby('year')['drive'].value_counts()"
      ]
    },
    {
      "cell_type": "code",
      "execution_count": null,
      "metadata": {
        "scrolled": false,
        "id": "1yw8jz2NzC1d"
      },
      "outputs": [],
      "source": [
        "vehicles.groupby('year')['drive'].value_counts().unstack()"
      ]
    }
  ],
  "metadata": {
    "kernelspec": {
      "display_name": "Python 3",
      "language": "python",
      "name": "python3"
    },
    "language_info": {
      "codemirror_mode": {
        "name": "ipython",
        "version": 3
      },
      "file_extension": ".py",
      "mimetype": "text/x-python",
      "name": "python",
      "nbconvert_exporter": "python",
      "pygments_lexer": "ipython3",
      "version": "3.8.8"
    },
    "colab": {
      "provenance": [],
      "include_colab_link": true
    }
  },
  "nbformat": 4,
  "nbformat_minor": 0
}