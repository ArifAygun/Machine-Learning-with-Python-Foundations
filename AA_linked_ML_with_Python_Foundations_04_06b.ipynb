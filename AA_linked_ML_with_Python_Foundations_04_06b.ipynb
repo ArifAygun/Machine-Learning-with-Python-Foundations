{
  "cells": [
    {
      "cell_type": "markdown",
      "metadata": {
        "id": "view-in-github",
        "colab_type": "text"
      },
      "source": [
        "<a href=\"https://colab.research.google.com/github/ArifAygun/Machine-Learning-with-Python-Foundations/blob/main/AA_linked_ML_with_Python_Foundations_04_06b.ipynb\" target=\"_parent\"><img src=\"https://colab.research.google.com/assets/colab-badge.svg\" alt=\"Open In Colab\"/></a>"
      ]
    },
    {
      "cell_type": "markdown",
      "metadata": {
        "id": "Jbs-EFT-lV9r"
      },
      "source": [
        "# How to Sample Data in Python"
      ]
    },
    {
      "cell_type": "markdown",
      "metadata": {
        "id": "R2MJh-uflV9t"
      },
      "source": [
        "## Learning Objectives\n",
        "In order to get an unbiased assessment of the performance of a supervised machine learning model, we need to evaluate it based on data that it did not previously encounter during the training process. To accomplish this, we must first split our data into a training subset and a test subset prior to the model build stage. One common way to split data in this fashion is by creating non-overlapping subsets of the original data using one of several **sampling** approaches. By the end of the tutorial, you will have learned:\n",
        "\n",
        "+ how to split data using simple random sampling\n",
        "+ how to split data using stratified random sampling"
      ]
    },
    {
      "cell_type": "code",
      "execution_count": 5,
      "metadata": {
        "colab": {
          "base_uri": "https://localhost:8080/",
          "height": 869
        },
        "id": "ZBtXnome3fr0",
        "scrolled": false,
        "outputId": "167ea4ec-3b95-470c-8287-f0d0474b997d"
      },
      "outputs": [
        {
          "output_type": "stream",
          "name": "stdout",
          "text": [
            "Drive already mounted at /content/drive/; to attempt to forcibly remount, call drive.mount(\"/content/drive/\", force_remount=True).\n",
            "/content/drive/My Drive/Datasets\n"
          ]
        },
        {
          "output_type": "execute_result",
          "data": {
            "text/plain": [
              "       citympg  cylinders  displacement             drive  highwaympg  \\\n",
              "0         14.0          6           4.1     2-Wheel Drive        19.0   \n",
              "1         14.0          8           5.0     2-Wheel Drive        20.0   \n",
              "2         18.0          8           5.7     2-Wheel Drive        26.0   \n",
              "3         21.0          6           4.3  Rear-Wheel Drive        31.0   \n",
              "4         14.0          8           4.1  Rear-Wheel Drive        19.0   \n",
              "...        ...        ...           ...               ...         ...   \n",
              "36974     17.0          8           4.7  Rear-Wheel Drive        25.0   \n",
              "36975     16.0          8           6.2  Rear-Wheel Drive        25.0   \n",
              "36976     15.0          8           6.2  Rear-Wheel Drive        22.0   \n",
              "36977     12.0         12           6.5  Rear-Wheel Drive        16.0   \n",
              "36978     13.0         12           6.0  Rear-Wheel Drive        22.0   \n",
              "\n",
              "                make                    model        class  year  \\\n",
              "0              Buick      Electra/Park Avenue   Large Cars  1984   \n",
              "1              Buick      Electra/Park Avenue   Large Cars  1984   \n",
              "2              Buick      Electra/Park Avenue   Large Cars  1984   \n",
              "3           Cadillac  Fleetwood/DeVille (FWD)   Large Cars  1984   \n",
              "4           Cadillac   Brougham/DeVille (RWD)   Large Cars  1984   \n",
              "...              ...                      ...          ...   ...   \n",
              "36974  Mercedes-Benz                    SL550  Two Seaters  2018   \n",
              "36975      Chevrolet                 Corvette  Two Seaters  2018   \n",
              "36976      Chevrolet                 Corvette  Two Seaters  2018   \n",
              "36977        Ferrari            812 Superfast  Two Seaters  2018   \n",
              "36978  Mercedes-Benz                 AMG SL65  Two Seaters  2018   \n",
              "\n",
              "      transmissiontype  transmissionspeeds  co2emissions  \n",
              "0            Automatic                   4    555.437500  \n",
              "1            Automatic                   4    555.437500  \n",
              "2            Automatic                   4    484.761905  \n",
              "3            Automatic                   4    424.166667  \n",
              "4            Automatic                   4    555.437500  \n",
              "...                ...                 ...           ...  \n",
              "36974        Automatic                   9    442.000000  \n",
              "36975           Manual                   7    466.000000  \n",
              "36976           Manual                   7    503.000000  \n",
              "36977        Automatic                   7    661.000000  \n",
              "36978        Automatic                   7    546.000000  \n",
              "\n",
              "[36979 rows x 12 columns]"
            ],
            "text/html": [
              "\n",
              "  <div id=\"df-00e686d1-ad66-4b5e-ad70-917476b8cb92\">\n",
              "    <div class=\"colab-df-container\">\n",
              "      <div>\n",
              "<style scoped>\n",
              "    .dataframe tbody tr th:only-of-type {\n",
              "        vertical-align: middle;\n",
              "    }\n",
              "\n",
              "    .dataframe tbody tr th {\n",
              "        vertical-align: top;\n",
              "    }\n",
              "\n",
              "    .dataframe thead th {\n",
              "        text-align: right;\n",
              "    }\n",
              "</style>\n",
              "<table border=\"1\" class=\"dataframe\">\n",
              "  <thead>\n",
              "    <tr style=\"text-align: right;\">\n",
              "      <th></th>\n",
              "      <th>citympg</th>\n",
              "      <th>cylinders</th>\n",
              "      <th>displacement</th>\n",
              "      <th>drive</th>\n",
              "      <th>highwaympg</th>\n",
              "      <th>make</th>\n",
              "      <th>model</th>\n",
              "      <th>class</th>\n",
              "      <th>year</th>\n",
              "      <th>transmissiontype</th>\n",
              "      <th>transmissionspeeds</th>\n",
              "      <th>co2emissions</th>\n",
              "    </tr>\n",
              "  </thead>\n",
              "  <tbody>\n",
              "    <tr>\n",
              "      <th>0</th>\n",
              "      <td>14.0</td>\n",
              "      <td>6</td>\n",
              "      <td>4.1</td>\n",
              "      <td>2-Wheel Drive</td>\n",
              "      <td>19.0</td>\n",
              "      <td>Buick</td>\n",
              "      <td>Electra/Park Avenue</td>\n",
              "      <td>Large Cars</td>\n",
              "      <td>1984</td>\n",
              "      <td>Automatic</td>\n",
              "      <td>4</td>\n",
              "      <td>555.437500</td>\n",
              "    </tr>\n",
              "    <tr>\n",
              "      <th>1</th>\n",
              "      <td>14.0</td>\n",
              "      <td>8</td>\n",
              "      <td>5.0</td>\n",
              "      <td>2-Wheel Drive</td>\n",
              "      <td>20.0</td>\n",
              "      <td>Buick</td>\n",
              "      <td>Electra/Park Avenue</td>\n",
              "      <td>Large Cars</td>\n",
              "      <td>1984</td>\n",
              "      <td>Automatic</td>\n",
              "      <td>4</td>\n",
              "      <td>555.437500</td>\n",
              "    </tr>\n",
              "    <tr>\n",
              "      <th>2</th>\n",
              "      <td>18.0</td>\n",
              "      <td>8</td>\n",
              "      <td>5.7</td>\n",
              "      <td>2-Wheel Drive</td>\n",
              "      <td>26.0</td>\n",
              "      <td>Buick</td>\n",
              "      <td>Electra/Park Avenue</td>\n",
              "      <td>Large Cars</td>\n",
              "      <td>1984</td>\n",
              "      <td>Automatic</td>\n",
              "      <td>4</td>\n",
              "      <td>484.761905</td>\n",
              "    </tr>\n",
              "    <tr>\n",
              "      <th>3</th>\n",
              "      <td>21.0</td>\n",
              "      <td>6</td>\n",
              "      <td>4.3</td>\n",
              "      <td>Rear-Wheel Drive</td>\n",
              "      <td>31.0</td>\n",
              "      <td>Cadillac</td>\n",
              "      <td>Fleetwood/DeVille (FWD)</td>\n",
              "      <td>Large Cars</td>\n",
              "      <td>1984</td>\n",
              "      <td>Automatic</td>\n",
              "      <td>4</td>\n",
              "      <td>424.166667</td>\n",
              "    </tr>\n",
              "    <tr>\n",
              "      <th>4</th>\n",
              "      <td>14.0</td>\n",
              "      <td>8</td>\n",
              "      <td>4.1</td>\n",
              "      <td>Rear-Wheel Drive</td>\n",
              "      <td>19.0</td>\n",
              "      <td>Cadillac</td>\n",
              "      <td>Brougham/DeVille (RWD)</td>\n",
              "      <td>Large Cars</td>\n",
              "      <td>1984</td>\n",
              "      <td>Automatic</td>\n",
              "      <td>4</td>\n",
              "      <td>555.437500</td>\n",
              "    </tr>\n",
              "    <tr>\n",
              "      <th>...</th>\n",
              "      <td>...</td>\n",
              "      <td>...</td>\n",
              "      <td>...</td>\n",
              "      <td>...</td>\n",
              "      <td>...</td>\n",
              "      <td>...</td>\n",
              "      <td>...</td>\n",
              "      <td>...</td>\n",
              "      <td>...</td>\n",
              "      <td>...</td>\n",
              "      <td>...</td>\n",
              "      <td>...</td>\n",
              "    </tr>\n",
              "    <tr>\n",
              "      <th>36974</th>\n",
              "      <td>17.0</td>\n",
              "      <td>8</td>\n",
              "      <td>4.7</td>\n",
              "      <td>Rear-Wheel Drive</td>\n",
              "      <td>25.0</td>\n",
              "      <td>Mercedes-Benz</td>\n",
              "      <td>SL550</td>\n",
              "      <td>Two Seaters</td>\n",
              "      <td>2018</td>\n",
              "      <td>Automatic</td>\n",
              "      <td>9</td>\n",
              "      <td>442.000000</td>\n",
              "    </tr>\n",
              "    <tr>\n",
              "      <th>36975</th>\n",
              "      <td>16.0</td>\n",
              "      <td>8</td>\n",
              "      <td>6.2</td>\n",
              "      <td>Rear-Wheel Drive</td>\n",
              "      <td>25.0</td>\n",
              "      <td>Chevrolet</td>\n",
              "      <td>Corvette</td>\n",
              "      <td>Two Seaters</td>\n",
              "      <td>2018</td>\n",
              "      <td>Manual</td>\n",
              "      <td>7</td>\n",
              "      <td>466.000000</td>\n",
              "    </tr>\n",
              "    <tr>\n",
              "      <th>36976</th>\n",
              "      <td>15.0</td>\n",
              "      <td>8</td>\n",
              "      <td>6.2</td>\n",
              "      <td>Rear-Wheel Drive</td>\n",
              "      <td>22.0</td>\n",
              "      <td>Chevrolet</td>\n",
              "      <td>Corvette</td>\n",
              "      <td>Two Seaters</td>\n",
              "      <td>2018</td>\n",
              "      <td>Manual</td>\n",
              "      <td>7</td>\n",
              "      <td>503.000000</td>\n",
              "    </tr>\n",
              "    <tr>\n",
              "      <th>36977</th>\n",
              "      <td>12.0</td>\n",
              "      <td>12</td>\n",
              "      <td>6.5</td>\n",
              "      <td>Rear-Wheel Drive</td>\n",
              "      <td>16.0</td>\n",
              "      <td>Ferrari</td>\n",
              "      <td>812 Superfast</td>\n",
              "      <td>Two Seaters</td>\n",
              "      <td>2018</td>\n",
              "      <td>Automatic</td>\n",
              "      <td>7</td>\n",
              "      <td>661.000000</td>\n",
              "    </tr>\n",
              "    <tr>\n",
              "      <th>36978</th>\n",
              "      <td>13.0</td>\n",
              "      <td>12</td>\n",
              "      <td>6.0</td>\n",
              "      <td>Rear-Wheel Drive</td>\n",
              "      <td>22.0</td>\n",
              "      <td>Mercedes-Benz</td>\n",
              "      <td>AMG SL65</td>\n",
              "      <td>Two Seaters</td>\n",
              "      <td>2018</td>\n",
              "      <td>Automatic</td>\n",
              "      <td>7</td>\n",
              "      <td>546.000000</td>\n",
              "    </tr>\n",
              "  </tbody>\n",
              "</table>\n",
              "<p>36979 rows × 12 columns</p>\n",
              "</div>\n",
              "      <button class=\"colab-df-convert\" onclick=\"convertToInteractive('df-00e686d1-ad66-4b5e-ad70-917476b8cb92')\"\n",
              "              title=\"Convert this dataframe to an interactive table.\"\n",
              "              style=\"display:none;\">\n",
              "        \n",
              "  <svg xmlns=\"http://www.w3.org/2000/svg\" height=\"24px\"viewBox=\"0 0 24 24\"\n",
              "       width=\"24px\">\n",
              "    <path d=\"M0 0h24v24H0V0z\" fill=\"none\"/>\n",
              "    <path d=\"M18.56 5.44l.94 2.06.94-2.06 2.06-.94-2.06-.94-.94-2.06-.94 2.06-2.06.94zm-11 1L8.5 8.5l.94-2.06 2.06-.94-2.06-.94L8.5 2.5l-.94 2.06-2.06.94zm10 10l.94 2.06.94-2.06 2.06-.94-2.06-.94-.94-2.06-.94 2.06-2.06.94z\"/><path d=\"M17.41 7.96l-1.37-1.37c-.4-.4-.92-.59-1.43-.59-.52 0-1.04.2-1.43.59L10.3 9.45l-7.72 7.72c-.78.78-.78 2.05 0 2.83L4 21.41c.39.39.9.59 1.41.59.51 0 1.02-.2 1.41-.59l7.78-7.78 2.81-2.81c.8-.78.8-2.07 0-2.86zM5.41 20L4 18.59l7.72-7.72 1.47 1.35L5.41 20z\"/>\n",
              "  </svg>\n",
              "      </button>\n",
              "      \n",
              "  <style>\n",
              "    .colab-df-container {\n",
              "      display:flex;\n",
              "      flex-wrap:wrap;\n",
              "      gap: 12px;\n",
              "    }\n",
              "\n",
              "    .colab-df-convert {\n",
              "      background-color: #E8F0FE;\n",
              "      border: none;\n",
              "      border-radius: 50%;\n",
              "      cursor: pointer;\n",
              "      display: none;\n",
              "      fill: #1967D2;\n",
              "      height: 32px;\n",
              "      padding: 0 0 0 0;\n",
              "      width: 32px;\n",
              "    }\n",
              "\n",
              "    .colab-df-convert:hover {\n",
              "      background-color: #E2EBFA;\n",
              "      box-shadow: 0px 1px 2px rgba(60, 64, 67, 0.3), 0px 1px 3px 1px rgba(60, 64, 67, 0.15);\n",
              "      fill: #174EA6;\n",
              "    }\n",
              "\n",
              "    [theme=dark] .colab-df-convert {\n",
              "      background-color: #3B4455;\n",
              "      fill: #D2E3FC;\n",
              "    }\n",
              "\n",
              "    [theme=dark] .colab-df-convert:hover {\n",
              "      background-color: #434B5C;\n",
              "      box-shadow: 0px 1px 3px 1px rgba(0, 0, 0, 0.15);\n",
              "      filter: drop-shadow(0px 1px 2px rgba(0, 0, 0, 0.3));\n",
              "      fill: #FFFFFF;\n",
              "    }\n",
              "  </style>\n",
              "\n",
              "      <script>\n",
              "        const buttonEl =\n",
              "          document.querySelector('#df-00e686d1-ad66-4b5e-ad70-917476b8cb92 button.colab-df-convert');\n",
              "        buttonEl.style.display =\n",
              "          google.colab.kernel.accessAllowed ? 'block' : 'none';\n",
              "\n",
              "        async function convertToInteractive(key) {\n",
              "          const element = document.querySelector('#df-00e686d1-ad66-4b5e-ad70-917476b8cb92');\n",
              "          const dataTable =\n",
              "            await google.colab.kernel.invokeFunction('convertToInteractive',\n",
              "                                                     [key], {});\n",
              "          if (!dataTable) return;\n",
              "\n",
              "          const docLinkHtml = 'Like what you see? Visit the ' +\n",
              "            '<a target=\"_blank\" href=https://colab.research.google.com/notebooks/data_table.ipynb>data table notebook</a>'\n",
              "            + ' to learn more about interactive tables.';\n",
              "          element.innerHTML = '';\n",
              "          dataTable['output_type'] = 'display_data';\n",
              "          await google.colab.output.renderOutput(dataTable, element);\n",
              "          const docLink = document.createElement('div');\n",
              "          docLink.innerHTML = docLinkHtml;\n",
              "          element.appendChild(docLink);\n",
              "        }\n",
              "      </script>\n",
              "    </div>\n",
              "  </div>\n",
              "  "
            ]
          },
          "metadata": {},
          "execution_count": 5
        }
      ],
      "source": [
        "import pandas as pd\n",
        "from google.colab import drive\n",
        "drive.mount('/content/drive/')\n",
        "\n",
        "%cd /content/drive/My Drive/Datasets/\n",
        "\n",
        "vehicles = pd.read_csv(\"vehicles.csv\")\n",
        "vehicles"
      ]
    },
    {
      "cell_type": "code",
      "execution_count": 10,
      "metadata": {
        "scrolled": true,
        "id": "1vxbSl-qlV9v"
      },
      "outputs": [],
      "source": [
        "response = 'co2emissions'"
      ]
    },
    {
      "cell_type": "code",
      "execution_count": 12,
      "metadata": {
        "colab": {
          "base_uri": "https://localhost:8080/",
          "height": 206
        },
        "id": "ytGqNOePlV9w",
        "outputId": "3775a90c-1532-4a03-ee4d-b39f04849368"
      },
      "outputs": [
        {
          "output_type": "execute_result",
          "data": {
            "text/plain": [
              "   co2emissions\n",
              "0    555.437500\n",
              "1    555.437500\n",
              "2    484.761905\n",
              "3    424.166667\n",
              "4    555.437500"
            ],
            "text/html": [
              "\n",
              "  <div id=\"df-3aca16f1-3fbf-4986-a55b-9c3cc9df6828\">\n",
              "    <div class=\"colab-df-container\">\n",
              "      <div>\n",
              "<style scoped>\n",
              "    .dataframe tbody tr th:only-of-type {\n",
              "        vertical-align: middle;\n",
              "    }\n",
              "\n",
              "    .dataframe tbody tr th {\n",
              "        vertical-align: top;\n",
              "    }\n",
              "\n",
              "    .dataframe thead th {\n",
              "        text-align: right;\n",
              "    }\n",
              "</style>\n",
              "<table border=\"1\" class=\"dataframe\">\n",
              "  <thead>\n",
              "    <tr style=\"text-align: right;\">\n",
              "      <th></th>\n",
              "      <th>co2emissions</th>\n",
              "    </tr>\n",
              "  </thead>\n",
              "  <tbody>\n",
              "    <tr>\n",
              "      <th>0</th>\n",
              "      <td>555.437500</td>\n",
              "    </tr>\n",
              "    <tr>\n",
              "      <th>1</th>\n",
              "      <td>555.437500</td>\n",
              "    </tr>\n",
              "    <tr>\n",
              "      <th>2</th>\n",
              "      <td>484.761905</td>\n",
              "    </tr>\n",
              "    <tr>\n",
              "      <th>3</th>\n",
              "      <td>424.166667</td>\n",
              "    </tr>\n",
              "    <tr>\n",
              "      <th>4</th>\n",
              "      <td>555.437500</td>\n",
              "    </tr>\n",
              "  </tbody>\n",
              "</table>\n",
              "</div>\n",
              "      <button class=\"colab-df-convert\" onclick=\"convertToInteractive('df-3aca16f1-3fbf-4986-a55b-9c3cc9df6828')\"\n",
              "              title=\"Convert this dataframe to an interactive table.\"\n",
              "              style=\"display:none;\">\n",
              "        \n",
              "  <svg xmlns=\"http://www.w3.org/2000/svg\" height=\"24px\"viewBox=\"0 0 24 24\"\n",
              "       width=\"24px\">\n",
              "    <path d=\"M0 0h24v24H0V0z\" fill=\"none\"/>\n",
              "    <path d=\"M18.56 5.44l.94 2.06.94-2.06 2.06-.94-2.06-.94-.94-2.06-.94 2.06-2.06.94zm-11 1L8.5 8.5l.94-2.06 2.06-.94-2.06-.94L8.5 2.5l-.94 2.06-2.06.94zm10 10l.94 2.06.94-2.06 2.06-.94-2.06-.94-.94-2.06-.94 2.06-2.06.94z\"/><path d=\"M17.41 7.96l-1.37-1.37c-.4-.4-.92-.59-1.43-.59-.52 0-1.04.2-1.43.59L10.3 9.45l-7.72 7.72c-.78.78-.78 2.05 0 2.83L4 21.41c.39.39.9.59 1.41.59.51 0 1.02-.2 1.41-.59l7.78-7.78 2.81-2.81c.8-.78.8-2.07 0-2.86zM5.41 20L4 18.59l7.72-7.72 1.47 1.35L5.41 20z\"/>\n",
              "  </svg>\n",
              "      </button>\n",
              "      \n",
              "  <style>\n",
              "    .colab-df-container {\n",
              "      display:flex;\n",
              "      flex-wrap:wrap;\n",
              "      gap: 12px;\n",
              "    }\n",
              "\n",
              "    .colab-df-convert {\n",
              "      background-color: #E8F0FE;\n",
              "      border: none;\n",
              "      border-radius: 50%;\n",
              "      cursor: pointer;\n",
              "      display: none;\n",
              "      fill: #1967D2;\n",
              "      height: 32px;\n",
              "      padding: 0 0 0 0;\n",
              "      width: 32px;\n",
              "    }\n",
              "\n",
              "    .colab-df-convert:hover {\n",
              "      background-color: #E2EBFA;\n",
              "      box-shadow: 0px 1px 2px rgba(60, 64, 67, 0.3), 0px 1px 3px 1px rgba(60, 64, 67, 0.15);\n",
              "      fill: #174EA6;\n",
              "    }\n",
              "\n",
              "    [theme=dark] .colab-df-convert {\n",
              "      background-color: #3B4455;\n",
              "      fill: #D2E3FC;\n",
              "    }\n",
              "\n",
              "    [theme=dark] .colab-df-convert:hover {\n",
              "      background-color: #434B5C;\n",
              "      box-shadow: 0px 1px 3px 1px rgba(0, 0, 0, 0.15);\n",
              "      filter: drop-shadow(0px 1px 2px rgba(0, 0, 0, 0.3));\n",
              "      fill: #FFFFFF;\n",
              "    }\n",
              "  </style>\n",
              "\n",
              "      <script>\n",
              "        const buttonEl =\n",
              "          document.querySelector('#df-3aca16f1-3fbf-4986-a55b-9c3cc9df6828 button.colab-df-convert');\n",
              "        buttonEl.style.display =\n",
              "          google.colab.kernel.accessAllowed ? 'block' : 'none';\n",
              "\n",
              "        async function convertToInteractive(key) {\n",
              "          const element = document.querySelector('#df-3aca16f1-3fbf-4986-a55b-9c3cc9df6828');\n",
              "          const dataTable =\n",
              "            await google.colab.kernel.invokeFunction('convertToInteractive',\n",
              "                                                     [key], {});\n",
              "          if (!dataTable) return;\n",
              "\n",
              "          const docLinkHtml = 'Like what you see? Visit the ' +\n",
              "            '<a target=\"_blank\" href=https://colab.research.google.com/notebooks/data_table.ipynb>data table notebook</a>'\n",
              "            + ' to learn more about interactive tables.';\n",
              "          element.innerHTML = '';\n",
              "          dataTable['output_type'] = 'display_data';\n",
              "          await google.colab.output.renderOutput(dataTable, element);\n",
              "          const docLink = document.createElement('div');\n",
              "          docLink.innerHTML = docLinkHtml;\n",
              "          element.appendChild(docLink);\n",
              "        }\n",
              "      </script>\n",
              "    </div>\n",
              "  </div>\n",
              "  "
            ]
          },
          "metadata": {},
          "execution_count": 12
        }
      ],
      "source": [
        "y = vehicles[[response]]\n",
        "y.head()"
      ]
    },
    {
      "cell_type": "code",
      "execution_count": 15,
      "metadata": {
        "colab": {
          "base_uri": "https://localhost:8080/"
        },
        "id": "AAGSo5iBlV9w",
        "outputId": "90cb8fab-e568-494d-c251-d2da7f504d07"
      },
      "outputs": [
        {
          "output_type": "execute_result",
          "data": {
            "text/plain": [
              "['citympg',\n",
              " 'cylinders',\n",
              " 'displacement',\n",
              " 'drive',\n",
              " 'highwaympg',\n",
              " 'make',\n",
              " 'model',\n",
              " 'class',\n",
              " 'year',\n",
              " 'transmissiontype',\n",
              " 'transmissionspeeds',\n",
              " 'co2emissions']"
            ]
          },
          "metadata": {},
          "execution_count": 15
        }
      ],
      "source": [
        "predictors = list(vehicles.columns)\n",
        "predictors"
      ]
    },
    {
      "cell_type": "code",
      "execution_count": 16,
      "metadata": {
        "scrolled": false,
        "id": "21DnXb23lV9w"
      },
      "outputs": [],
      "source": [
        "predictors.remove(response)"
      ]
    },
    {
      "cell_type": "code",
      "execution_count": 20,
      "metadata": {
        "colab": {
          "base_uri": "https://localhost:8080/",
          "height": 443
        },
        "id": "lQ8nBfWylV9x",
        "outputId": "d2349447-b047-4709-9e62-5442abd254ef"
      },
      "outputs": [
        {
          "output_type": "execute_result",
          "data": {
            "text/plain": [
              "   citympg  cylinders  displacement             drive  highwaympg      make  \\\n",
              "0     14.0          6           4.1     2-Wheel Drive        19.0     Buick   \n",
              "1     14.0          8           5.0     2-Wheel Drive        20.0     Buick   \n",
              "2     18.0          8           5.7     2-Wheel Drive        26.0     Buick   \n",
              "3     21.0          6           4.3  Rear-Wheel Drive        31.0  Cadillac   \n",
              "4     14.0          8           4.1  Rear-Wheel Drive        19.0  Cadillac   \n",
              "\n",
              "                     model       class  year transmissiontype  \\\n",
              "0      Electra/Park Avenue  Large Cars  1984        Automatic   \n",
              "1      Electra/Park Avenue  Large Cars  1984        Automatic   \n",
              "2      Electra/Park Avenue  Large Cars  1984        Automatic   \n",
              "3  Fleetwood/DeVille (FWD)  Large Cars  1984        Automatic   \n",
              "4   Brougham/DeVille (RWD)  Large Cars  1984        Automatic   \n",
              "\n",
              "   transmissionspeeds  \n",
              "0                   4  \n",
              "1                   4  \n",
              "2                   4  \n",
              "3                   4  \n",
              "4                   4  "
            ],
            "text/html": [
              "\n",
              "  <div id=\"df-e51db11f-5978-4163-97ff-521088c87b33\">\n",
              "    <div class=\"colab-df-container\">\n",
              "      <div>\n",
              "<style scoped>\n",
              "    .dataframe tbody tr th:only-of-type {\n",
              "        vertical-align: middle;\n",
              "    }\n",
              "\n",
              "    .dataframe tbody tr th {\n",
              "        vertical-align: top;\n",
              "    }\n",
              "\n",
              "    .dataframe thead th {\n",
              "        text-align: right;\n",
              "    }\n",
              "</style>\n",
              "<table border=\"1\" class=\"dataframe\">\n",
              "  <thead>\n",
              "    <tr style=\"text-align: right;\">\n",
              "      <th></th>\n",
              "      <th>citympg</th>\n",
              "      <th>cylinders</th>\n",
              "      <th>displacement</th>\n",
              "      <th>drive</th>\n",
              "      <th>highwaympg</th>\n",
              "      <th>make</th>\n",
              "      <th>model</th>\n",
              "      <th>class</th>\n",
              "      <th>year</th>\n",
              "      <th>transmissiontype</th>\n",
              "      <th>transmissionspeeds</th>\n",
              "    </tr>\n",
              "  </thead>\n",
              "  <tbody>\n",
              "    <tr>\n",
              "      <th>0</th>\n",
              "      <td>14.0</td>\n",
              "      <td>6</td>\n",
              "      <td>4.1</td>\n",
              "      <td>2-Wheel Drive</td>\n",
              "      <td>19.0</td>\n",
              "      <td>Buick</td>\n",
              "      <td>Electra/Park Avenue</td>\n",
              "      <td>Large Cars</td>\n",
              "      <td>1984</td>\n",
              "      <td>Automatic</td>\n",
              "      <td>4</td>\n",
              "    </tr>\n",
              "    <tr>\n",
              "      <th>1</th>\n",
              "      <td>14.0</td>\n",
              "      <td>8</td>\n",
              "      <td>5.0</td>\n",
              "      <td>2-Wheel Drive</td>\n",
              "      <td>20.0</td>\n",
              "      <td>Buick</td>\n",
              "      <td>Electra/Park Avenue</td>\n",
              "      <td>Large Cars</td>\n",
              "      <td>1984</td>\n",
              "      <td>Automatic</td>\n",
              "      <td>4</td>\n",
              "    </tr>\n",
              "    <tr>\n",
              "      <th>2</th>\n",
              "      <td>18.0</td>\n",
              "      <td>8</td>\n",
              "      <td>5.7</td>\n",
              "      <td>2-Wheel Drive</td>\n",
              "      <td>26.0</td>\n",
              "      <td>Buick</td>\n",
              "      <td>Electra/Park Avenue</td>\n",
              "      <td>Large Cars</td>\n",
              "      <td>1984</td>\n",
              "      <td>Automatic</td>\n",
              "      <td>4</td>\n",
              "    </tr>\n",
              "    <tr>\n",
              "      <th>3</th>\n",
              "      <td>21.0</td>\n",
              "      <td>6</td>\n",
              "      <td>4.3</td>\n",
              "      <td>Rear-Wheel Drive</td>\n",
              "      <td>31.0</td>\n",
              "      <td>Cadillac</td>\n",
              "      <td>Fleetwood/DeVille (FWD)</td>\n",
              "      <td>Large Cars</td>\n",
              "      <td>1984</td>\n",
              "      <td>Automatic</td>\n",
              "      <td>4</td>\n",
              "    </tr>\n",
              "    <tr>\n",
              "      <th>4</th>\n",
              "      <td>14.0</td>\n",
              "      <td>8</td>\n",
              "      <td>4.1</td>\n",
              "      <td>Rear-Wheel Drive</td>\n",
              "      <td>19.0</td>\n",
              "      <td>Cadillac</td>\n",
              "      <td>Brougham/DeVille (RWD)</td>\n",
              "      <td>Large Cars</td>\n",
              "      <td>1984</td>\n",
              "      <td>Automatic</td>\n",
              "      <td>4</td>\n",
              "    </tr>\n",
              "  </tbody>\n",
              "</table>\n",
              "</div>\n",
              "      <button class=\"colab-df-convert\" onclick=\"convertToInteractive('df-e51db11f-5978-4163-97ff-521088c87b33')\"\n",
              "              title=\"Convert this dataframe to an interactive table.\"\n",
              "              style=\"display:none;\">\n",
              "        \n",
              "  <svg xmlns=\"http://www.w3.org/2000/svg\" height=\"24px\"viewBox=\"0 0 24 24\"\n",
              "       width=\"24px\">\n",
              "    <path d=\"M0 0h24v24H0V0z\" fill=\"none\"/>\n",
              "    <path d=\"M18.56 5.44l.94 2.06.94-2.06 2.06-.94-2.06-.94-.94-2.06-.94 2.06-2.06.94zm-11 1L8.5 8.5l.94-2.06 2.06-.94-2.06-.94L8.5 2.5l-.94 2.06-2.06.94zm10 10l.94 2.06.94-2.06 2.06-.94-2.06-.94-.94-2.06-.94 2.06-2.06.94z\"/><path d=\"M17.41 7.96l-1.37-1.37c-.4-.4-.92-.59-1.43-.59-.52 0-1.04.2-1.43.59L10.3 9.45l-7.72 7.72c-.78.78-.78 2.05 0 2.83L4 21.41c.39.39.9.59 1.41.59.51 0 1.02-.2 1.41-.59l7.78-7.78 2.81-2.81c.8-.78.8-2.07 0-2.86zM5.41 20L4 18.59l7.72-7.72 1.47 1.35L5.41 20z\"/>\n",
              "  </svg>\n",
              "      </button>\n",
              "      \n",
              "  <style>\n",
              "    .colab-df-container {\n",
              "      display:flex;\n",
              "      flex-wrap:wrap;\n",
              "      gap: 12px;\n",
              "    }\n",
              "\n",
              "    .colab-df-convert {\n",
              "      background-color: #E8F0FE;\n",
              "      border: none;\n",
              "      border-radius: 50%;\n",
              "      cursor: pointer;\n",
              "      display: none;\n",
              "      fill: #1967D2;\n",
              "      height: 32px;\n",
              "      padding: 0 0 0 0;\n",
              "      width: 32px;\n",
              "    }\n",
              "\n",
              "    .colab-df-convert:hover {\n",
              "      background-color: #E2EBFA;\n",
              "      box-shadow: 0px 1px 2px rgba(60, 64, 67, 0.3), 0px 1px 3px 1px rgba(60, 64, 67, 0.15);\n",
              "      fill: #174EA6;\n",
              "    }\n",
              "\n",
              "    [theme=dark] .colab-df-convert {\n",
              "      background-color: #3B4455;\n",
              "      fill: #D2E3FC;\n",
              "    }\n",
              "\n",
              "    [theme=dark] .colab-df-convert:hover {\n",
              "      background-color: #434B5C;\n",
              "      box-shadow: 0px 1px 3px 1px rgba(0, 0, 0, 0.15);\n",
              "      filter: drop-shadow(0px 1px 2px rgba(0, 0, 0, 0.3));\n",
              "      fill: #FFFFFF;\n",
              "    }\n",
              "  </style>\n",
              "\n",
              "      <script>\n",
              "        const buttonEl =\n",
              "          document.querySelector('#df-e51db11f-5978-4163-97ff-521088c87b33 button.colab-df-convert');\n",
              "        buttonEl.style.display =\n",
              "          google.colab.kernel.accessAllowed ? 'block' : 'none';\n",
              "\n",
              "        async function convertToInteractive(key) {\n",
              "          const element = document.querySelector('#df-e51db11f-5978-4163-97ff-521088c87b33');\n",
              "          const dataTable =\n",
              "            await google.colab.kernel.invokeFunction('convertToInteractive',\n",
              "                                                     [key], {});\n",
              "          if (!dataTable) return;\n",
              "\n",
              "          const docLinkHtml = 'Like what you see? Visit the ' +\n",
              "            '<a target=\"_blank\" href=https://colab.research.google.com/notebooks/data_table.ipynb>data table notebook</a>'\n",
              "            + ' to learn more about interactive tables.';\n",
              "          element.innerHTML = '';\n",
              "          dataTable['output_type'] = 'display_data';\n",
              "          await google.colab.output.renderOutput(dataTable, element);\n",
              "          const docLink = document.createElement('div');\n",
              "          docLink.innerHTML = docLinkHtml;\n",
              "          element.appendChild(docLink);\n",
              "        }\n",
              "      </script>\n",
              "    </div>\n",
              "  </div>\n",
              "  "
            ]
          },
          "metadata": {},
          "execution_count": 20
        }
      ],
      "source": [
        "x = vehicles[predictors]\n",
        "x.head()"
      ]
    },
    {
      "cell_type": "markdown",
      "metadata": {
        "id": "g3PJY-eTlV9w"
      },
      "source": [
        "## How to split data using Simple Random Sampling"
      ]
    },
    {
      "cell_type": "code",
      "execution_count": 21,
      "metadata": {
        "id": "bXJlI4LslV9x"
      },
      "outputs": [],
      "source": [
        "from sklearn.model_selection import train_test_split"
      ]
    },
    {
      "cell_type": "code",
      "source": [
        "x_train, x_test, y_train, y_test = train_test_split(x,y) "
      ],
      "metadata": {
        "id": "g7M7htygnsO1"
      },
      "execution_count": 38,
      "outputs": []
    },
    {
      "cell_type": "code",
      "execution_count": 39,
      "metadata": {
        "colab": {
          "base_uri": "https://localhost:8080/"
        },
        "id": "-eBbWHkglV9x",
        "outputId": "517bd611-a0fa-40b0-e893-3722111708e2"
      },
      "outputs": [
        {
          "output_type": "execute_result",
          "data": {
            "text/plain": [
              "(27734, 11)"
            ]
          },
          "metadata": {},
          "execution_count": 39
        }
      ],
      "source": [
        "x_train.shape"
      ]
    },
    {
      "cell_type": "code",
      "execution_count": 40,
      "metadata": {
        "colab": {
          "base_uri": "https://localhost:8080/"
        },
        "id": "bdv1IybmlV9x",
        "outputId": "f8d51789-576b-4ea6-9f68-b607493c4c4c"
      },
      "outputs": [
        {
          "output_type": "execute_result",
          "data": {
            "text/plain": [
              "(27734, 1)"
            ]
          },
          "metadata": {},
          "execution_count": 40
        }
      ],
      "source": [
        "y_train.shape"
      ]
    },
    {
      "cell_type": "code",
      "execution_count": 41,
      "metadata": {
        "colab": {
          "base_uri": "https://localhost:8080/"
        },
        "id": "pgJ8nTLXlV9x",
        "outputId": "6df62261-ebf1-40d5-ae3b-1bb40d003425"
      },
      "outputs": [
        {
          "output_type": "execute_result",
          "data": {
            "text/plain": [
              "(9245, 11)"
            ]
          },
          "metadata": {},
          "execution_count": 41
        }
      ],
      "source": [
        "x_test.shape"
      ]
    },
    {
      "cell_type": "code",
      "execution_count": 42,
      "metadata": {
        "colab": {
          "base_uri": "https://localhost:8080/"
        },
        "id": "0fUtNawglV9y",
        "outputId": "afc6b0ae-4a95-4448-92bb-e8b985bb2a01"
      },
      "outputs": [
        {
          "output_type": "execute_result",
          "data": {
            "text/plain": [
              "(9245, 1)"
            ]
          },
          "metadata": {},
          "execution_count": 42
        }
      ],
      "source": [
        "y_test.shape"
      ]
    },
    {
      "cell_type": "code",
      "execution_count": 44,
      "metadata": {
        "colab": {
          "base_uri": "https://localhost:8080/"
        },
        "id": "pVN1XM5vlV9y",
        "outputId": "186c3d6d-5506-4de6-d7e9-5f7b94864d21"
      },
      "outputs": [
        {
          "output_type": "execute_result",
          "data": {
            "text/plain": [
              "(14792, 11)"
            ]
          },
          "metadata": {},
          "execution_count": 44
        }
      ],
      "source": [
        "x_train, x_test, y_train, y_test = train_test_split(x, y,\n",
        "                                                    test_size=0.4)\n",
        "x_test.shape"
      ]
    },
    {
      "cell_type": "markdown",
      "metadata": {
        "id": "zkfbBY3ilV9y"
      },
      "source": [
        "## How to split data using Stratified Random Sampling"
      ]
    },
    {
      "cell_type": "code",
      "execution_count": 45,
      "metadata": {
        "id": "bA7Bqn5FlV9y"
      },
      "outputs": [],
      "source": [
        "x_train, x_test, y_train, y_test = train_test_split(x, y, \n",
        "                                                    test_size = 0.01, \n",
        "                                                    random_state = 1234)"
      ]
    },
    {
      "cell_type": "code",
      "execution_count": 46,
      "metadata": {
        "scrolled": false,
        "colab": {
          "base_uri": "https://localhost:8080/"
        },
        "id": "evt5xk36lV9y",
        "outputId": "1a42aeaf-5792-41fe-a6db-c255d2b1b26a"
      },
      "outputs": [
        {
          "output_type": "execute_result",
          "data": {
            "text/plain": [
              "Rear-Wheel Drive     0.356797\n",
              "Front-Wheel Drive    0.353552\n",
              "All-Wheel Drive      0.239893\n",
              "4-Wheel Drive        0.036480\n",
              "2-Wheel Drive        0.013278\n",
              "Name: drive, dtype: float64"
            ]
          },
          "metadata": {},
          "execution_count": 46
        }
      ],
      "source": [
        "x['drive'].value_counts(normalize=True)"
      ]
    },
    {
      "cell_type": "code",
      "execution_count": 47,
      "metadata": {
        "scrolled": false,
        "colab": {
          "base_uri": "https://localhost:8080/"
        },
        "id": "SFcZFOs1lV9z",
        "outputId": "488074ed-cec5-4875-cb64-390c4cebb699"
      },
      "outputs": [
        {
          "output_type": "execute_result",
          "data": {
            "text/plain": [
              "Front-Wheel Drive    0.364865\n",
              "Rear-Wheel Drive     0.332432\n",
              "All-Wheel Drive      0.248649\n",
              "4-Wheel Drive        0.035135\n",
              "2-Wheel Drive        0.018919\n",
              "Name: drive, dtype: float64"
            ]
          },
          "metadata": {},
          "execution_count": 47
        }
      ],
      "source": [
        "x_test['drive'].value_counts(normalize=True)"
      ]
    },
    {
      "cell_type": "code",
      "execution_count": 48,
      "metadata": {
        "id": "Mjrx7IdplV9z"
      },
      "outputs": [],
      "source": [
        "x_train, x_test, y_train, y_test = train_test_split(x, y, \n",
        "                                                    test_size = 0.01, \n",
        "                                                    random_state = 1234,\n",
        "                                                    stratify=x['drive'])"
      ]
    },
    {
      "cell_type": "code",
      "execution_count": 49,
      "metadata": {
        "scrolled": true,
        "colab": {
          "base_uri": "https://localhost:8080/"
        },
        "id": "AcwRQ47jlV9z",
        "outputId": "01696b4d-175e-489a-b94c-6f93b8bed30d"
      },
      "outputs": [
        {
          "output_type": "execute_result",
          "data": {
            "text/plain": [
              "Rear-Wheel Drive     0.356757\n",
              "Front-Wheel Drive    0.354054\n",
              "All-Wheel Drive      0.240541\n",
              "4-Wheel Drive        0.035135\n",
              "2-Wheel Drive        0.013514\n",
              "Name: drive, dtype: float64"
            ]
          },
          "metadata": {},
          "execution_count": 49
        }
      ],
      "source": [
        "x_test['drive'].value_counts(normalize = True)"
      ]
    }
  ],
  "metadata": {
    "colab": {
      "provenance": [],
      "include_colab_link": true
    },
    "kernelspec": {
      "display_name": "Python 3",
      "language": "python",
      "name": "python3"
    },
    "language_info": {
      "codemirror_mode": {
        "name": "ipython",
        "version": 3
      },
      "file_extension": ".py",
      "mimetype": "text/x-python",
      "name": "python",
      "nbconvert_exporter": "python",
      "pygments_lexer": "ipython3",
      "version": "3.8.8"
    }
  },
  "nbformat": 4,
  "nbformat_minor": 0
}