{
  "cells": [
    {
      "cell_type": "markdown",
      "metadata": {
        "id": "view-in-github",
        "colab_type": "text"
      },
      "source": [
        "<a href=\"https://colab.research.google.com/github/ArifAygun/Machine-Learning-with-Python-Foundations/blob/main/AA_linked_ML_with_Python_Foundations_03_02b.ipynb\" target=\"_parent\"><img src=\"https://colab.research.google.com/assets/colab-badge.svg\" alt=\"Open In Colab\"/></a>"
      ]
    },
    {
      "cell_type": "markdown",
      "metadata": {
        "id": "aQzjtVdjzUlm"
      },
      "source": [
        "# How to Summarize Data in Python"
      ]
    },
    {
      "cell_type": "markdown",
      "metadata": {
        "id": "_iQxU2l6zUlp"
      },
      "source": [
        "## Learning Objectives\n",
        "When exploring data, one of the most important things we can do is summarize it so we can better understand it. A common way to summarize data is by computing aggregations such as mean, median, maximum and minimum. These aggregations or statistical measures (as they are commonly referred to) describe the general and specific characteristics of our data. This is why these types of aggregations are sometimes referred to as **descriptive statistics** or **summary statistics**. The pandas DataFrame provides several methods for computing descriptive statistics. By the end of this tutorial, you will have learned:\n",
        "\n",
        "+ how to describe a DataFrame\n",
        "+ how to get simple aggregations\n",
        "+ how to get group-level aggregations"
      ]
    },
    {
      "cell_type": "markdown",
      "metadata": {
        "id": "JxeZEBROzUlq"
      },
      "source": [
        "## How to Describe a DataFrame"
      ]
    },
    {
      "cell_type": "code",
      "execution_count": 3,
      "metadata": {
        "id": "U6niu5llzUlq",
        "colab": {
          "base_uri": "https://localhost:8080/",
          "height": 374
        },
        "outputId": "26a1e4e3-0b17-412c-f979-9aaed9f2daf4"
      },
      "outputs": [
        {
          "output_type": "stream",
          "name": "stdout",
          "text": [
            "Drive already mounted at /content/drive; to attempt to forcibly remount, call drive.mount(\"/content/drive\", force_remount=True).\n"
          ]
        },
        {
          "output_type": "execute_result",
          "data": {
            "text/plain": [
              "        ID BrandName   ModelNumber          UPC Configuration  \\\n",
              "0  2342279        GE  GTW845C*N***            1      Top Load   \n",
              "1  2331684        GE  GUD27EE*N***  84691844198      Top Load   \n",
              "2  2331685        GE  GUD27EE*N***  7.57638E+11      Top Load   \n",
              "3  2331687        GE  GUD27GE*N***  84691844181      Top Load   \n",
              "4  2331686        GE  GUD37EE*N***  7.57638E+11      Top Load   \n",
              "\n",
              "                                     Features       Market  Volume  IMEF  \\\n",
              "0  Gentle Cycle,Delayed Start,Sanitize Option  Residential     5.0  2.06   \n",
              "1                                Gentle Cycle  Residential     3.9  2.06   \n",
              "2                                Gentle Cycle  Residential     3.9  2.06   \n",
              "3                                Gentle Cycle  Residential     3.9  2.06   \n",
              "4                                Gentle Cycle  Residential     3.9  2.06   \n",
              "\n",
              "   MinimumIMEF  EnergyUse  IWF  MaximumIWF  WaterUse DateAvailable  \\\n",
              "0         1.29        192  4.3         8.4      6368        8/5/19   \n",
              "1         1.29        140  4.3         8.4      4947      12/10/18   \n",
              "2         1.29        140  4.3         8.4      4947      12/10/18   \n",
              "3         1.29        140  4.3         8.4      4947      12/10/18   \n",
              "4         1.29        140  4.3         8.4      4947      12/10/18   \n",
              "\n",
              "  DateCertified              Countries MostEfficient  \n",
              "0       7/31/19  United States, Canada            No  \n",
              "1      11/30/18          United States            No  \n",
              "2      11/30/18                 Canada            No  \n",
              "3      11/30/18          United States            No  \n",
              "4      11/30/18                 Canada            No  "
            ],
            "text/html": [
              "\n",
              "  <div id=\"df-7151a6e7-028d-4fcf-9c24-477a1b8e5aea\">\n",
              "    <div class=\"colab-df-container\">\n",
              "      <div>\n",
              "<style scoped>\n",
              "    .dataframe tbody tr th:only-of-type {\n",
              "        vertical-align: middle;\n",
              "    }\n",
              "\n",
              "    .dataframe tbody tr th {\n",
              "        vertical-align: top;\n",
              "    }\n",
              "\n",
              "    .dataframe thead th {\n",
              "        text-align: right;\n",
              "    }\n",
              "</style>\n",
              "<table border=\"1\" class=\"dataframe\">\n",
              "  <thead>\n",
              "    <tr style=\"text-align: right;\">\n",
              "      <th></th>\n",
              "      <th>ID</th>\n",
              "      <th>BrandName</th>\n",
              "      <th>ModelNumber</th>\n",
              "      <th>UPC</th>\n",
              "      <th>Configuration</th>\n",
              "      <th>Features</th>\n",
              "      <th>Market</th>\n",
              "      <th>Volume</th>\n",
              "      <th>IMEF</th>\n",
              "      <th>MinimumIMEF</th>\n",
              "      <th>EnergyUse</th>\n",
              "      <th>IWF</th>\n",
              "      <th>MaximumIWF</th>\n",
              "      <th>WaterUse</th>\n",
              "      <th>DateAvailable</th>\n",
              "      <th>DateCertified</th>\n",
              "      <th>Countries</th>\n",
              "      <th>MostEfficient</th>\n",
              "    </tr>\n",
              "  </thead>\n",
              "  <tbody>\n",
              "    <tr>\n",
              "      <th>0</th>\n",
              "      <td>2342279</td>\n",
              "      <td>GE</td>\n",
              "      <td>GTW845C*N***</td>\n",
              "      <td>1</td>\n",
              "      <td>Top Load</td>\n",
              "      <td>Gentle Cycle,Delayed Start,Sanitize Option</td>\n",
              "      <td>Residential</td>\n",
              "      <td>5.0</td>\n",
              "      <td>2.06</td>\n",
              "      <td>1.29</td>\n",
              "      <td>192</td>\n",
              "      <td>4.3</td>\n",
              "      <td>8.4</td>\n",
              "      <td>6368</td>\n",
              "      <td>8/5/19</td>\n",
              "      <td>7/31/19</td>\n",
              "      <td>United States, Canada</td>\n",
              "      <td>No</td>\n",
              "    </tr>\n",
              "    <tr>\n",
              "      <th>1</th>\n",
              "      <td>2331684</td>\n",
              "      <td>GE</td>\n",
              "      <td>GUD27EE*N***</td>\n",
              "      <td>84691844198</td>\n",
              "      <td>Top Load</td>\n",
              "      <td>Gentle Cycle</td>\n",
              "      <td>Residential</td>\n",
              "      <td>3.9</td>\n",
              "      <td>2.06</td>\n",
              "      <td>1.29</td>\n",
              "      <td>140</td>\n",
              "      <td>4.3</td>\n",
              "      <td>8.4</td>\n",
              "      <td>4947</td>\n",
              "      <td>12/10/18</td>\n",
              "      <td>11/30/18</td>\n",
              "      <td>United States</td>\n",
              "      <td>No</td>\n",
              "    </tr>\n",
              "    <tr>\n",
              "      <th>2</th>\n",
              "      <td>2331685</td>\n",
              "      <td>GE</td>\n",
              "      <td>GUD27EE*N***</td>\n",
              "      <td>7.57638E+11</td>\n",
              "      <td>Top Load</td>\n",
              "      <td>Gentle Cycle</td>\n",
              "      <td>Residential</td>\n",
              "      <td>3.9</td>\n",
              "      <td>2.06</td>\n",
              "      <td>1.29</td>\n",
              "      <td>140</td>\n",
              "      <td>4.3</td>\n",
              "      <td>8.4</td>\n",
              "      <td>4947</td>\n",
              "      <td>12/10/18</td>\n",
              "      <td>11/30/18</td>\n",
              "      <td>Canada</td>\n",
              "      <td>No</td>\n",
              "    </tr>\n",
              "    <tr>\n",
              "      <th>3</th>\n",
              "      <td>2331687</td>\n",
              "      <td>GE</td>\n",
              "      <td>GUD27GE*N***</td>\n",
              "      <td>84691844181</td>\n",
              "      <td>Top Load</td>\n",
              "      <td>Gentle Cycle</td>\n",
              "      <td>Residential</td>\n",
              "      <td>3.9</td>\n",
              "      <td>2.06</td>\n",
              "      <td>1.29</td>\n",
              "      <td>140</td>\n",
              "      <td>4.3</td>\n",
              "      <td>8.4</td>\n",
              "      <td>4947</td>\n",
              "      <td>12/10/18</td>\n",
              "      <td>11/30/18</td>\n",
              "      <td>United States</td>\n",
              "      <td>No</td>\n",
              "    </tr>\n",
              "    <tr>\n",
              "      <th>4</th>\n",
              "      <td>2331686</td>\n",
              "      <td>GE</td>\n",
              "      <td>GUD37EE*N***</td>\n",
              "      <td>7.57638E+11</td>\n",
              "      <td>Top Load</td>\n",
              "      <td>Gentle Cycle</td>\n",
              "      <td>Residential</td>\n",
              "      <td>3.9</td>\n",
              "      <td>2.06</td>\n",
              "      <td>1.29</td>\n",
              "      <td>140</td>\n",
              "      <td>4.3</td>\n",
              "      <td>8.4</td>\n",
              "      <td>4947</td>\n",
              "      <td>12/10/18</td>\n",
              "      <td>11/30/18</td>\n",
              "      <td>Canada</td>\n",
              "      <td>No</td>\n",
              "    </tr>\n",
              "  </tbody>\n",
              "</table>\n",
              "</div>\n",
              "      <button class=\"colab-df-convert\" onclick=\"convertToInteractive('df-7151a6e7-028d-4fcf-9c24-477a1b8e5aea')\"\n",
              "              title=\"Convert this dataframe to an interactive table.\"\n",
              "              style=\"display:none;\">\n",
              "        \n",
              "  <svg xmlns=\"http://www.w3.org/2000/svg\" height=\"24px\"viewBox=\"0 0 24 24\"\n",
              "       width=\"24px\">\n",
              "    <path d=\"M0 0h24v24H0V0z\" fill=\"none\"/>\n",
              "    <path d=\"M18.56 5.44l.94 2.06.94-2.06 2.06-.94-2.06-.94-.94-2.06-.94 2.06-2.06.94zm-11 1L8.5 8.5l.94-2.06 2.06-.94-2.06-.94L8.5 2.5l-.94 2.06-2.06.94zm10 10l.94 2.06.94-2.06 2.06-.94-2.06-.94-.94-2.06-.94 2.06-2.06.94z\"/><path d=\"M17.41 7.96l-1.37-1.37c-.4-.4-.92-.59-1.43-.59-.52 0-1.04.2-1.43.59L10.3 9.45l-7.72 7.72c-.78.78-.78 2.05 0 2.83L4 21.41c.39.39.9.59 1.41.59.51 0 1.02-.2 1.41-.59l7.78-7.78 2.81-2.81c.8-.78.8-2.07 0-2.86zM5.41 20L4 18.59l7.72-7.72 1.47 1.35L5.41 20z\"/>\n",
              "  </svg>\n",
              "      </button>\n",
              "      \n",
              "  <style>\n",
              "    .colab-df-container {\n",
              "      display:flex;\n",
              "      flex-wrap:wrap;\n",
              "      gap: 12px;\n",
              "    }\n",
              "\n",
              "    .colab-df-convert {\n",
              "      background-color: #E8F0FE;\n",
              "      border: none;\n",
              "      border-radius: 50%;\n",
              "      cursor: pointer;\n",
              "      display: none;\n",
              "      fill: #1967D2;\n",
              "      height: 32px;\n",
              "      padding: 0 0 0 0;\n",
              "      width: 32px;\n",
              "    }\n",
              "\n",
              "    .colab-df-convert:hover {\n",
              "      background-color: #E2EBFA;\n",
              "      box-shadow: 0px 1px 2px rgba(60, 64, 67, 0.3), 0px 1px 3px 1px rgba(60, 64, 67, 0.15);\n",
              "      fill: #174EA6;\n",
              "    }\n",
              "\n",
              "    [theme=dark] .colab-df-convert {\n",
              "      background-color: #3B4455;\n",
              "      fill: #D2E3FC;\n",
              "    }\n",
              "\n",
              "    [theme=dark] .colab-df-convert:hover {\n",
              "      background-color: #434B5C;\n",
              "      box-shadow: 0px 1px 3px 1px rgba(0, 0, 0, 0.15);\n",
              "      filter: drop-shadow(0px 1px 2px rgba(0, 0, 0, 0.3));\n",
              "      fill: #FFFFFF;\n",
              "    }\n",
              "  </style>\n",
              "\n",
              "      <script>\n",
              "        const buttonEl =\n",
              "          document.querySelector('#df-7151a6e7-028d-4fcf-9c24-477a1b8e5aea button.colab-df-convert');\n",
              "        buttonEl.style.display =\n",
              "          google.colab.kernel.accessAllowed ? 'block' : 'none';\n",
              "\n",
              "        async function convertToInteractive(key) {\n",
              "          const element = document.querySelector('#df-7151a6e7-028d-4fcf-9c24-477a1b8e5aea');\n",
              "          const dataTable =\n",
              "            await google.colab.kernel.invokeFunction('convertToInteractive',\n",
              "                                                     [key], {});\n",
              "          if (!dataTable) return;\n",
              "\n",
              "          const docLinkHtml = 'Like what you see? Visit the ' +\n",
              "            '<a target=\"_blank\" href=https://colab.research.google.com/notebooks/data_table.ipynb>data table notebook</a>'\n",
              "            + ' to learn more about interactive tables.';\n",
              "          element.innerHTML = '';\n",
              "          dataTable['output_type'] = 'display_data';\n",
              "          await google.colab.output.renderOutput(dataTable, element);\n",
              "          const docLink = document.createElement('div');\n",
              "          docLink.innerHTML = docLinkHtml;\n",
              "          element.appendChild(docLink);\n",
              "        }\n",
              "      </script>\n",
              "    </div>\n",
              "  </div>\n",
              "  "
            ]
          },
          "metadata": {},
          "execution_count": 3
        }
      ],
      "source": [
        "#import pandas as pd\n",
        "#washers = pd.read_csv(\"washers.csv\")\n",
        "\n",
        "from google.colab import drive\n",
        "drive.mount('/content/drive')\n",
        "\n",
        "from numpy import logical_and\n",
        "import pandas as pd\n",
        "import os\n",
        "\n",
        "def file_locator(file_name):\n",
        "  main_dir = os.getcwd()\n",
        "\n",
        "  for dir, folder, files in os.walk(main_dir):\n",
        "    for file in files:\n",
        "      if file == file_name:\n",
        "        file_path = os.path.join(dir,file)\n",
        "  return file_path\n",
        "\n",
        "file_path = file_locator('washers.csv')\n",
        "washers = pd.read_csv(file_path)\n",
        "washers.head()"
      ]
    },
    {
      "cell_type": "code",
      "execution_count": 4,
      "metadata": {
        "id": "vHv3YWImzUlr",
        "colab": {
          "base_uri": "https://localhost:8080/"
        },
        "outputId": "f6f0cc33-5b55-4f93-8a63-64d6019af4dc"
      },
      "outputs": [
        {
          "output_type": "stream",
          "name": "stdout",
          "text": [
            "<class 'pandas.core.frame.DataFrame'>\n",
            "RangeIndex: 261 entries, 0 to 260\n",
            "Data columns (total 18 columns):\n",
            " #   Column         Non-Null Count  Dtype  \n",
            "---  ------         --------------  -----  \n",
            " 0   ID             261 non-null    int64  \n",
            " 1   BrandName      261 non-null    object \n",
            " 2   ModelNumber    261 non-null    object \n",
            " 3   UPC            261 non-null    object \n",
            " 4   Configuration  261 non-null    object \n",
            " 5   Features       261 non-null    object \n",
            " 6   Market         261 non-null    object \n",
            " 7   Volume         261 non-null    float64\n",
            " 8   IMEF           261 non-null    float64\n",
            " 9   MinimumIMEF    261 non-null    float64\n",
            " 10  EnergyUse      261 non-null    int64  \n",
            " 11  IWF            261 non-null    float64\n",
            " 12  MaximumIWF     261 non-null    float64\n",
            " 13  WaterUse       261 non-null    int64  \n",
            " 14  DateAvailable  261 non-null    object \n",
            " 15  DateCertified  261 non-null    object \n",
            " 16  Countries      261 non-null    object \n",
            " 17  MostEfficient  261 non-null    object \n",
            "dtypes: float64(5), int64(3), object(10)\n",
            "memory usage: 36.8+ KB\n"
          ]
        }
      ],
      "source": [
        "washers.info()"
      ]
    },
    {
      "cell_type": "markdown",
      "metadata": {
        "id": "EXeSF-JSzUlr"
      },
      "source": [
        "## How to get Simple Aggregations\n",
        "The `describe()` method returns a statistical summary for each of the columns in a DataFrame. It's important to note that the descriptive statistics returned by the `describe()` method depends on the data type of a column. For non-numeric columns, the descriptive statistics returned by the method are as follows:\n",
        "\n",
        "|Name      |   Description  |\n",
        "|-----------------|---------------------|\n",
        "| `count`         | Number of non-missing values                       |\n",
        "| `unique`       | Number of unique non-missing values                   |\n",
        "| `top`       | Most commonly occuring value   |\n",
        "| `freq`        | Frequency of the most commonly occuring value                   |\n"
      ]
    },
    {
      "cell_type": "code",
      "execution_count": null,
      "metadata": {
        "id": "Y_yIgdFRzUls"
      },
      "outputs": [],
      "source": []
    },
    {
      "cell_type": "markdown",
      "metadata": {
        "id": "EQ8wSj8TzUls"
      },
      "source": [
        "For numeric columns, the `describe()` method returns the following descriptive statistics:\n",
        "\n",
        "|Name      |   Description  |\n",
        "|-----------------|---------------------|\n",
        "| `count`         | Number of non-missing values                       |\n",
        "| `mean`       | Average of the non-missing values                   |\n",
        "| `std`       | Standard deviation of the values   |\n",
        "| `min`        | Smallest value                  |\n",
        "| `25%`         | 25th percentile                       |\n",
        "| `50%`       | 50th percentile (same as the median)                   |\n",
        "| `75%`       | 75th percentile   |\n",
        "| `max`        | Largest value                   |\n"
      ]
    },
    {
      "cell_type": "code",
      "execution_count": null,
      "metadata": {
        "id": "1k94r5URzUlt"
      },
      "outputs": [],
      "source": []
    },
    {
      "cell_type": "code",
      "execution_count": null,
      "metadata": {
        "id": "86uU_I9kzUlt"
      },
      "outputs": [],
      "source": []
    },
    {
      "cell_type": "code",
      "execution_count": null,
      "metadata": {
        "scrolled": false,
        "id": "pltByg36zUlu"
      },
      "outputs": [],
      "source": [
        "washers[['BrandName']].value_counts()"
      ]
    },
    {
      "cell_type": "code",
      "execution_count": null,
      "metadata": {
        "id": "QOw8VY9dl_0e"
      },
      "outputs": [],
      "source": []
    },
    {
      "cell_type": "markdown",
      "metadata": {
        "id": "qUmxiS_YzUlv"
      },
      "source": [
        "## How to get Group-level Aggregations"
      ]
    },
    {
      "cell_type": "code",
      "execution_count": null,
      "metadata": {
        "scrolled": false,
        "id": "mV-Y21BczUlv"
      },
      "outputs": [],
      "source": []
    },
    {
      "cell_type": "code",
      "execution_count": null,
      "metadata": {
        "id": "eWfC7WhPzUlv"
      },
      "outputs": [],
      "source": [
        "washers.groupby('BrandName')[['Volume']].mean()"
      ]
    },
    {
      "cell_type": "code",
      "execution_count": null,
      "metadata": {
        "scrolled": false,
        "id": "Re5_ahy9zUlv"
      },
      "outputs": [],
      "source": [
        "washers.groupby('BrandName')[['Volume']]"
      ]
    }
  ],
  "metadata": {
    "kernelspec": {
      "display_name": "Python 3",
      "language": "python",
      "name": "python3"
    },
    "language_info": {
      "codemirror_mode": {
        "name": "ipython",
        "version": 3
      },
      "file_extension": ".py",
      "mimetype": "text/x-python",
      "name": "python",
      "nbconvert_exporter": "python",
      "pygments_lexer": "ipython3",
      "version": "3.8.8"
    },
    "colab": {
      "provenance": [],
      "include_colab_link": true
    }
  },
  "nbformat": 4,
  "nbformat_minor": 0
}