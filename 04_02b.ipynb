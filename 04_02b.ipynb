{
  "cells": [
    {
      "cell_type": "markdown",
      "metadata": {
        "id": "view-in-github",
        "colab_type": "text"
      },
      "source": [
        "<a href=\"https://colab.research.google.com/github/ArifAygun/Machine-Learning-with-Python-Foundations/blob/main/04_02b.ipynb\" target=\"_parent\"><img src=\"https://colab.research.google.com/assets/colab-badge.svg\" alt=\"Open In Colab\"/></a>"
      ]
    },
    {
      "cell_type": "markdown",
      "metadata": {
        "id": "ADF0oe1Hz8dc"
      },
      "source": [
        "# How to Deal with Missing Data in Python"
      ]
    },
    {
      "cell_type": "markdown",
      "metadata": {
        "id": "LaRBL7oiz8de"
      },
      "source": [
        "## Learning Objectives\n",
        "During the process of data exploration, it is not uncommon to realize that the data we have is incomplete. Missing data could arise as a result of changes in data collection methods, human error, bias, or simply the lack of reliable input. There are several ways to deal with missing data. By the end of the tutorial, you will have learned:\n",
        "\n",
        "+ how to detect missing data\n",
        "+ how to remove missing data\n",
        "+ how to resolve missing data"
      ]
    },
    {
      "cell_type": "markdown",
      "metadata": {
        "id": "H4h5CV-p3fsD"
      },
      "source": [
        "## How to Detect Missing Values"
      ]
    },
    {
      "cell_type": "code",
      "execution_count": null,
      "metadata": {
        "id": "ZBtXnome3fr0",
        "scrolled": false
      },
      "outputs": [],
      "source": [
        "import pandas as pd\n",
        "students = pd.read_excel(\"students.xlsx\")\n",
        "students"
      ]
    },
    {
      "cell_type": "code",
      "execution_count": null,
      "metadata": {
        "id": "ke7UzUxtz8dg"
      },
      "outputs": [],
      "source": []
    },
    {
      "cell_type": "code",
      "execution_count": null,
      "metadata": {
        "scrolled": true,
        "id": "T8UInhDhz8dg"
      },
      "outputs": [],
      "source": []
    },
    {
      "cell_type": "markdown",
      "metadata": {
        "id": "Xofta5-Cz8dg"
      },
      "source": [
        "## How to Remove Missing Values"
      ]
    },
    {
      "cell_type": "code",
      "execution_count": null,
      "metadata": {
        "id": "Tt3BgaZVz8dg"
      },
      "outputs": [],
      "source": []
    },
    {
      "cell_type": "code",
      "execution_count": null,
      "metadata": {
        "scrolled": false,
        "id": "FySct2Q7z8dh"
      },
      "outputs": [],
      "source": [
        "students = students.dropna()\n",
        "students"
      ]
    },
    {
      "cell_type": "code",
      "execution_count": null,
      "metadata": {
        "scrolled": false,
        "id": "5fMUcjirz8dh"
      },
      "outputs": [],
      "source": []
    },
    {
      "cell_type": "code",
      "execution_count": null,
      "metadata": {
        "id": "okn6T7X-z8dh"
      },
      "outputs": [],
      "source": [
        "students = students.dropna()\n",
        "students"
      ]
    },
    {
      "cell_type": "markdown",
      "metadata": {
        "id": "Mx2jr2ifz8dh"
      },
      "source": [
        "## How to Resolve Missing Values"
      ]
    },
    {
      "cell_type": "code",
      "execution_count": null,
      "metadata": {
        "id": "xjc4OBUzz8di"
      },
      "outputs": [],
      "source": [
        "students = students.fillna()\n",
        "students"
      ]
    },
    {
      "cell_type": "code",
      "execution_count": null,
      "metadata": {
        "id": "3Xq_7R3vz8di"
      },
      "outputs": [],
      "source": [
        "students = students.fillna()\n",
        "students"
      ]
    },
    {
      "cell_type": "code",
      "execution_count": null,
      "metadata": {
        "scrolled": true,
        "id": "tsmfWFATz8di"
      },
      "outputs": [],
      "source": []
    },
    {
      "cell_type": "code",
      "execution_count": null,
      "metadata": {
        "id": "_sXCVTxPz8dj"
      },
      "outputs": [],
      "source": []
    },
    {
      "cell_type": "code",
      "execution_count": null,
      "metadata": {
        "id": "nhnaJDFSz8dj"
      },
      "outputs": [],
      "source": []
    },
    {
      "cell_type": "code",
      "execution_count": null,
      "metadata": {
        "id": "5YYwzPicz8dj"
      },
      "outputs": [],
      "source": [
        "mask = (students['City'] == 'Niles') & (students['State'] == 'MI')\n",
        "students.loc[mask, 'Zip'] = 49120\n",
        "students"
      ]
    }
  ],
  "metadata": {
    "colab": {
      "provenance": [],
      "include_colab_link": true
    },
    "kernelspec": {
      "display_name": "Python 3",
      "language": "python",
      "name": "python3"
    },
    "language_info": {
      "codemirror_mode": {
        "name": "ipython",
        "version": 3
      },
      "file_extension": ".py",
      "mimetype": "text/x-python",
      "name": "python",
      "nbconvert_exporter": "python",
      "pygments_lexer": "ipython3",
      "version": "3.8.8"
    }
  },
  "nbformat": 4,
  "nbformat_minor": 0
}