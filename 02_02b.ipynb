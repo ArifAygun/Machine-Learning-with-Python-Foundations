{
  "cells": [
    {
      "cell_type": "markdown",
      "metadata": {
        "id": "view-in-github",
        "colab_type": "text"
      },
      "source": [
        "<a href=\"https://colab.research.google.com/github/ArifAygun/Machine-Learning-with-Python-Foundations/blob/main/02_02b.ipynb\" target=\"_parent\"><img src=\"https://colab.research.google.com/assets/colab-badge.svg\" alt=\"Open In Colab\"/></a>"
      ]
    },
    {
      "cell_type": "markdown",
      "metadata": {
        "id": "2QLwehncym7O"
      },
      "source": [
        "# How to Import Data in Python"
      ]
    },
    {
      "cell_type": "markdown",
      "metadata": {
        "id": "JhNVoXVJym7R"
      },
      "source": [
        "## Learning Objectives\n",
        "One of the reasons why Python is such a popular programming language for machine learning is because it supports some very powerful and easy to use packages which are purpose-built for data analysis. One of these packages is the **pandas** package. In this exercise, you will get a brief introduction to the pandas package and how to import data using functions provided by the pandas package. By the end of this tutorial, you will have learned:\n",
        "\n",
        "+ what a pandas Series is\n",
        "+ what a pandas DataFrame is\n",
        "+ how to import data from a CSV file\n",
        "+ how to import data from an Excel file"
      ]
    },
    {
      "cell_type": "markdown",
      "metadata": {
        "id": "rgzeumtubBxE"
      },
      "source": [
        "## The pandas Package"
      ]
    },
    {
      "cell_type": "code",
      "execution_count": null,
      "metadata": {
        "id": "i8NQe2iYbBxK"
      },
      "outputs": [],
      "source": []
    },
    {
      "cell_type": "markdown",
      "metadata": {
        "id": "YOI_JMGpym7T"
      },
      "source": [
        "## The pandas Series"
      ]
    },
    {
      "cell_type": "code",
      "execution_count": null,
      "metadata": {
        "id": "M4wDxReNym7U"
      },
      "outputs": [],
      "source": [
        "members = [\"Brazil\", \"Russia\", \"India\", \"China\", \"South Africa\"]\n"
      ]
    },
    {
      "cell_type": "code",
      "execution_count": null,
      "metadata": {
        "id": "VPqGedXKym7U"
      },
      "outputs": [],
      "source": []
    },
    {
      "cell_type": "markdown",
      "metadata": {
        "id": "PRpEU7i-ym7V"
      },
      "source": [
        "## The pandas DataFrame"
      ]
    },
    {
      "cell_type": "code",
      "execution_count": null,
      "metadata": {
        "id": "Nzcoz81tbByT"
      },
      "outputs": [],
      "source": [
        "members = {\"country\": [\"Brazil\", \"Russia\", \"India\", \"China\", \"South Africa\"],\n",
        "        \"capital\": [\"Brasilia\", \"Moscow\", \"New Delhi\", \"Beijing\", \"Pretoria\"],\n",
        "        \"gdp\": [2750, 1658, 3202, 15270, 370],\n",
        "        \"literacy\":[.944, .997, .721, .964, .943],\n",
        "        \"expectancy\": [76.8, 72.7, 68.8, 76.4, 63.6],\n",
        "        \"population\": [210.87, 143.96, 1367.09, 1415.05, 57.4]}\n"
      ]
    },
    {
      "cell_type": "code",
      "execution_count": null,
      "metadata": {
        "scrolled": true,
        "id": "foUe4Djgym7V"
      },
      "outputs": [],
      "source": []
    },
    {
      "cell_type": "code",
      "execution_count": null,
      "metadata": {
        "id": "rTwI66Z_ym7V"
      },
      "outputs": [],
      "source": [
        "members = [[\"Brazil\", \"Brasilia\", 2750, 0.944, 76.8, 210.87],\n",
        "                     [\"Russia\", \"Moscow\", 1658, 0.997, 72.7, 143.96],\n",
        "                     [\"India\", \"New Delhi\", 3202, 0.721, 68.8, 1367.09],\n",
        "                     [\"China\", \"Beijing\", 15270, 0.964, 76.4, 1415.05],\n",
        "                     [\"South Africa\", \"Pretoria\", 370, 0.943, 63.6, 57.4]]\n",
        "labels = [\"country\", \"capital\", \"gdp\", \"literacy\", \"expectancy\", \"population\"]\n"
      ]
    },
    {
      "cell_type": "markdown",
      "metadata": {
        "id": "pOErgaFsym7W"
      },
      "source": [
        "## How to import data from a CSV file"
      ]
    },
    {
      "cell_type": "code",
      "execution_count": null,
      "metadata": {
        "id": "GoA26VSGym7W"
      },
      "outputs": [],
      "source": []
    },
    {
      "cell_type": "markdown",
      "metadata": {
        "id": "KwvnYQ5dym7W"
      },
      "source": [
        "## How to import data from an Excel file"
      ]
    },
    {
      "cell_type": "code",
      "execution_count": null,
      "metadata": {
        "id": "iI_iDOddym7W"
      },
      "outputs": [],
      "source": []
    },
    {
      "cell_type": "code",
      "execution_count": null,
      "metadata": {
        "id": "tdEx0b6Kym7W"
      },
      "outputs": [],
      "source": [
        "brics6 = pd.read_excel(\"brics.xlsx\")\n",
        "brics6"
      ]
    }
  ],
  "metadata": {
    "kernelspec": {
      "display_name": "Python 3",
      "language": "python",
      "name": "python3"
    },
    "language_info": {
      "codemirror_mode": {
        "name": "ipython",
        "version": 3
      },
      "file_extension": ".py",
      "mimetype": "text/x-python",
      "name": "python",
      "nbconvert_exporter": "python",
      "pygments_lexer": "ipython3",
      "version": "3.8.8"
    },
    "colab": {
      "provenance": [],
      "include_colab_link": true
    }
  },
  "nbformat": 4,
  "nbformat_minor": 0
}